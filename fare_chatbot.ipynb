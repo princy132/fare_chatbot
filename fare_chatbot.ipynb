{
 "cells": [
  {
   "cell_type": "code",
   "execution_count": null,
   "metadata": {},
   "outputs": [
    {
     "name": "stderr",
     "output_type": "stream",
     "text": [
      "C:\\Users\\Princy Nadar\\Anaconda3\\lib\\site-packages\\fuzzywuzzy\\fuzz.py:11: UserWarning: Using slow pure-python SequenceMatcher. Install python-Levenshtein to remove this warning\n",
      "  warnings.warn('Using slow pure-python SequenceMatcher. Install python-Levenshtein to remove this warning')\n"
     ]
    },
    {
     "name": "stdout",
     "output_type": "stream",
     "text": [
      "Press 1 to start for chatting ! 1\n",
      "Welcome, I am a train_assistant...Enter your station ! Type Bye to exit the chat :)\n",
      "rabale\n",
      "Bot : select the destination code:r1.ghansoli r2.koparkhairne r3.turbhe r4.Sanpada r5.Vashi r6.juinagar r7.nerul r8.thane r9.chembur r10.panvel r11.kharghar r13.belapur\n",
      "\n",
      "r4\n",
      "Bot : rabale to sanpada-single Rs.10(II),  return Rs.20(II), monthly - 250(II) \n",
      "\n"
     ]
    }
   ],
   "source": [
    "from fuzzywuzzy import fuzz\n",
    "data1 = open(\"stations.txt\", 'r+')\n",
    "data2 = open(\"fare.txt\",'r+')\n",
    "def reach ():\n",
    "    a = input(\"Enter the question? \")\n",
    "    print (a)\n",
    "    if a == \"Exit\":\n",
    "        return\n",
    "    data1.write(str(a)+'\\n')\n",
    "    b = input(\"Enter the answer for \"+a+\" \")\n",
    "    print (b)\n",
    "    data2.write(str(b)+'\\n'),\n",
    "    reach()\n",
    "    \n",
    "decide = input(\"Press 1 to start for chatting ! \")\n",
    "#if int(decide) == 1:\n",
    "   # reach()\n",
    "decide=1\n",
    "i = 0\n",
    "\n",
    "\n",
    "predic = []\n",
    "answers = []\n",
    "\n",
    "if int(decide)==1:\n",
    "    for u in data1: \n",
    "        predic.append(u)\n",
    "    for n in data2:\n",
    "        answers.append(n)\n",
    "        #print(\" All data loaded! \")\n",
    "    print(\"Welcome, I am a train_assistant...Enter your station ! Type Bye to exit the chat :)\")\n",
    "\n",
    "    def call():\n",
    "        inputer = input(\"\")\n",
    "        for i in predic:\n",
    "            a = fuzz.partial_ratio(inputer,i)\n",
    "            if(inputer==\"Bye\"):\n",
    "                 print(\"Thank you...see you next time\")\n",
    "                 break\n",
    "            else:\n",
    "                if a > 90:\n",
    "                    index = predic.index(i)\n",
    "                    print('Bot :' + ' '+ (answers [index]))\n",
    "                    call()\n",
    "                    \n",
    "                \n",
    "\n",
    "                \n",
    "    call()\n",
    "\n",
    "data1.close()\n",
    "data2.close()"
   ]
  },
  {
   "cell_type": "code",
   "execution_count": 7,
   "metadata": {},
   "outputs": [],
   "source": [
    "\n"
   ]
  },
  {
   "cell_type": "code",
   "execution_count": null,
   "metadata": {},
   "outputs": [],
   "source": []
  },
  {
   "cell_type": "code",
   "execution_count": null,
   "metadata": {},
   "outputs": [],
   "source": []
  }
 ],
 "metadata": {
  "kernelspec": {
   "display_name": "Python 3",
   "language": "python",
   "name": "python3"
  },
  "language_info": {
   "codemirror_mode": {
    "name": "ipython",
    "version": 3
   },
   "file_extension": ".py",
   "mimetype": "text/x-python",
   "name": "python",
   "nbconvert_exporter": "python",
   "pygments_lexer": "ipython3",
   "version": "3.7.4"
  }
 },
 "nbformat": 4,
 "nbformat_minor": 2
}
